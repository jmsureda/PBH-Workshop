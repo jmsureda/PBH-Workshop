{
 "cells": [
  {
   "cell_type": "markdown",
   "id": "e3c92815",
   "metadata": {},
   "source": [
    "# Primordial Black Holes Workshop - FoF 2022\n",
    "\n",
    "## Exercise 1\n",
    "\n",
    "In this exercise, the idea is that you implement the Fixed Conformal Time (FCT) mass function for primordial black holes. In this scenario, the energy density at formation time is given by\n",
    "\n",
    "\\begin{equation}\n",
    "    \\rho_{fct} = \\left(\\frac{\\rho_{\\mathrm{DM},0}}{a_\\mathrm{fct}^3}+\\frac{\\rho_{\\mathrm{r,0}}}{a_\\mathrm{fct}^4}\\right),\n",
    "    \\label{eq: rho_fct}\n",
    "\\end{equation}\n",
    "where $a_\\mathrm{fct}$ is the formation scale factor for the PBH population. Using the Press-Schechter formalism presented by Nelson Padilla, one is able to define the FCT mass function as\n",
    "\n",
    "\\begin{align}\n",
    "    \\boxed{\\left(\\frac{\\mathrm{d} n}{\\mathrm{~d} M}\\right)_{\\mathrm{fct}}= \\begin{cases}\\left(\\frac{\\mathrm{d} n}{\\mathrm{~d} M}\\right)_{\\mathrm{fct}}^{\\mathrm{brk}} & \\text { for } M<M_{\\mathrm{piv}}, \\\\ \\left(\\frac{\\mathrm{d} n}{\\mathrm{~d} M}\\right)_{\\mathrm{fct}}^{\\mathrm{std}} & \\text { for } M \\geq M_{\\mathrm{piv}},\\end{cases}}\n",
    "    \\label{eq: FCT Mass function}\n",
    "\\end{align}\n",
    "where $M_{\\mathrm{piv}}$ is given by\n",
    "\n",
    "\\begin{equation}\n",
    "    M_{\\mathrm{piv}} \\equiv (C_\\mathrm{fct}/k_\\mathrm{piv})^3 f_m,\n",
    "\\end{equation}\n",
    "and the mass functions for each part of the piecewise function are given by\n",
    "\n",
    "\\begin{align}\n",
    "    \\left(\\frac{\\mathrm{d} n}{\\mathrm{~d} M}\\right)_{\\mathrm{fct}}^{\\mathrm{std}}= \\frac{\\rho_{\\mathrm{DM}}(a)}{\\sqrt{2 \\pi}} \\frac{n_{\\mathrm{s}}+3}{3 M^{2}}\\left(\\frac{M}{M_{*}}\\right)^{\\left(n_{\\mathrm{s}}+3\\right) / 6}  \\exp \\left[-\\frac{1}{2}\\left(\\frac{M}{M_{*}}\\right)^{\\left(n_{\\mathrm{s}}+3\\right) / 3}\\right],\\\\\n",
    "    \\left(\\frac{\\mathrm{d} n}{\\mathrm{~d} M}\\right)_{\\mathrm{fct}}^{\\text {brk }}= \\frac{S_{2} \\alpha \\rho_{\\mathrm{DM}}(a)}{\\sqrt{2 \\pi} M^{\\alpha+2}} \\frac{\\left(S_{1} f_{m}^{-\\alpha}+S_{2} M_{*}^{-\\alpha}\\right)^{1 / 2}}{\\left(S_{1} f_{m}^{-\\alpha}+S_{2} M^{-\\alpha}\\right)^{3 / 2}} \\times \\exp \\left[-\\frac{S_{1} f_{m}^{-\\alpha}+S_{2} M_{*}^{-\\alpha}}{2\\left(S_{1} f_{m}^{-\\alpha}+S_{2} M^{-\\alpha}\\right)}\\right].\n",
    "\\end{align}\n",
    "These expressions use some auxiliary definitions given by\n",
    "\n",
    "\\begin{align}\n",
    "    &C_\\mathrm{fct} \\equiv a_\\mathrm{fct}\\left(\\frac{32\\pi^4\\rho_\\mathrm{fct}}{3}\\right)^{1/3}\\\\\n",
    "    &\\alpha \\equiv \\frac{n_{b}+3}{3}\\\\\n",
    "    &S_1 \\equiv (n_{b} - n_{s})\\left(\\frac{C_\\mathrm{fct}}{k_\\mathrm{piv}}\\right)^{-3\\alpha},\\\\\n",
    "    &S_2 \\equiv (n_s+3).\n",
    "\\end{align}\n",
    "\n",
    "\n",
    "### For this activity:\n",
    "\n",
    "- Create a FCT Massfunction class that inherits all properties from the general Massfunction class. This will allow to immediately calculate $f_\\mathrm{PBH}$) by using the method FCT.compute_f( ), where FCT is your instance of a FCT mass function. Plot your resulting mass function for a given choice of parameters.\n",
    "- Use your FCT class to compute $f_{\\mathrm{PBH}}(M_*)$ for $-15 \\leq \\log_{10}(M_*/M_\\odot) \\leq 10$ for a fixed $n_b = 3.5$ value.\n",
    "\n",
    "For simplicity, assume that $f_m = 1$ and use a value of $k_\\mathrm{piv} = 10\\, \\mathrm{Mpc}^{-1}$ and $a_\\mathrm{fct} \\sim 10^{-26}$.\n",
    "\n",
    "------------------------------------------"
   ]
  },
  {
   "cell_type": "code",
   "execution_count": null,
   "id": "4a2a3212",
   "metadata": {},
   "outputs": [],
   "source": [
    "import numpy as np\n",
    "import pandas as pd\n",
    "import matplotlib.pyplot as plt\n",
    "import PBH\n",
    "from PBH.constants import ns"
   ]
  },
  {
   "cell_type": "code",
   "execution_count": null,
   "id": "376e1ec4",
   "metadata": {},
   "outputs": [],
   "source": [
    "cosmo = PBH.Cosmology()"
   ]
  },
  {
   "cell_type": "markdown",
   "id": "21fe0cd5",
   "metadata": {},
   "source": [
    "### Definition of $M_\\mathrm{piv}$"
   ]
  },
  {
   "cell_type": "code",
   "execution_count": null,
   "id": "3676f9fe",
   "metadata": {},
   "outputs": [],
   "source": [
    "def C_FCT(cosmo, a_FCT = 1e-26):\n",
    "\n",
    "    rho_FCT = (cosmo.Om0 * np.power(a_FCT, -3) + cosmo.Or0 * np.power(a_FCT, -4)) * cosmo.rhoc \n",
    "\n",
    "    #\n",
    "    #\n",
    "    #\n",
    "    #\n",
    "    \n",
    "\n",
    "def Mpiv(cosmo, a_FCT = 1e-26, k_piv = 10., fm = 1.):\n",
    "\n",
    "    #\n",
    "    #\n",
    "    #\n",
    "    #"
   ]
  },
  {
   "cell_type": "markdown",
   "id": "111d3111",
   "metadata": {},
   "source": [
    "### Definition of $\\left(\\frac{\\mathrm{d} n}{\\mathrm{~d} M}\\right)_{\\mathrm{fct}}^{\\mathrm{std}}$"
   ]
  },
  {
   "cell_type": "code",
   "execution_count": null,
   "id": "40f1aa75",
   "metadata": {},
   "outputs": [],
   "source": [
    "def dndm_std(logM, cosmo, Ms = 1e2):\n",
    "    \n",
    "    M = 10.**logM\n",
    "    \n",
    "    rho_pbh = cosmo.Odm0 * cosmo.rhoc # Msun Mpc^-3\n",
    "    \n",
    "    #\n",
    "    #\n",
    "    #\n",
    "    #\n",
    "    #\n",
    "    "
   ]
  },
  {
   "cell_type": "markdown",
   "id": "d6f67067",
   "metadata": {},
   "source": [
    "### Definition of $\\left(\\frac{\\mathrm{d} n}{\\mathrm{~d} M}\\right)_{\\mathrm{fct}}^{\\mathrm{brk}}$"
   ]
  },
  {
   "cell_type": "code",
   "execution_count": null,
   "id": "9813699b",
   "metadata": {},
   "outputs": [],
   "source": [
    "def dndm_brk(logM, cosmo, a_FCT = 1e-26, k_piv = 10., fm = 1., Ms = 10, nb = 2.):\n",
    "    \n",
    "    M = 10.**logM\n",
    "    \n",
    "    rho_pbh = cosmo.Odm0 * cosmo.rhoc # Msun Mpc^-3\n",
    "    \n",
    "    alpha = (nb + 3) / 3\n",
    "    \n",
    "    S1 = (nb - ns) * (C_FCT(cosmo, a_FCT) / k_piv)**(-3 * alpha)\n",
    "    S2 = ns + 3\n",
    "    \n",
    "    aux1 = S1 *  np.power(fm, -alpha) + S2 * Ms**(-alpha)\n",
    "    aux2 = S1 *  np.power(fm, -alpha) + S2 * M**(-alpha)\n",
    "    \n",
    "    \n",
    "    #\n",
    "    #\n",
    "    #\n",
    "    #\n",
    "    #\n",
    "    #\n",
    "    "
   ]
  },
  {
   "cell_type": "markdown",
   "id": "a702dbe1",
   "metadata": {},
   "source": [
    "### Definiton of $\\left(\\frac{\\mathrm{d} n}{\\mathrm{~d} M}\\right)_{\\mathrm{fct}}$"
   ]
  },
  {
   "cell_type": "code",
   "execution_count": null,
   "id": "800bd0b9",
   "metadata": {},
   "outputs": [],
   "source": [
    "@np.vectorize\n",
    "def dndm(logM, cosmo, a_FCT = 1e-26,k_piv = 10., fm = 1., Ms = 10, nb = 2.):\n",
    "    \n",
    "    #\n",
    "    #\n",
    "    #\n",
    "    \n",
    "    if logM > logMpiv:\n",
    "        \n",
    "        return ###\n",
    "    \n",
    "    elif logM < logMpiv:\n",
    "        \n",
    "        return ###"
   ]
  },
  {
   "cell_type": "markdown",
   "id": "b06ca7a4",
   "metadata": {},
   "source": [
    "## Plot your results! 😃"
   ]
  },
  {
   "cell_type": "code",
   "execution_count": null,
   "id": "95f19e54",
   "metadata": {},
   "outputs": [],
   "source": [
    "logM = np.linspace(-20,5,100)\n",
    "\n",
    "plt.semilogy(logM, dndm_brk(logM,cosmo))"
   ]
  },
  {
   "cell_type": "markdown",
   "id": "ebbe4f8f",
   "metadata": {},
   "source": [
    "The function check parameters will help to pass the correct parameters to the mass function"
   ]
  },
  {
   "cell_type": "code",
   "execution_count": null,
   "id": "2fa2b3a9",
   "metadata": {},
   "outputs": [],
   "source": [
    "def check_parameters(**kwargs):\n",
    "    \n",
    "    '''\n",
    "    Checks if the given parameters exists and fills the dictionary with \n",
    "    the default values for the parameters that were not given.\n",
    "    '''\n",
    "\n",
    "    parameters = {\"Ms\" : 1e2,\n",
    "                \"nb\": 2.,\n",
    "                \"a_FCT\" : 1e-26,\n",
    "                \"k_piv\" : 10.,\n",
    "                \"fm\" : 1.} # Default parameters\n",
    "    \n",
    "    #Checks if the given parameters exist.\n",
    "    for i in kwargs.keys():\n",
    "        \n",
    "        if i not in parameters.keys():\n",
    "            \n",
    "            raise ValueError(\"%s is not a parameter.\"%i)\n",
    "        \n",
    "    # If some parameter is not given, it uses the default value.\n",
    "    \n",
    "    for i in parameters.keys():\n",
    "        \n",
    "        if i not in kwargs.keys():\n",
    "            \n",
    "            kwargs[i] = parameters[i]\n",
    "            \n",
    "    return kwargs"
   ]
  },
  {
   "cell_type": "markdown",
   "id": "584f2a8c",
   "metadata": {},
   "source": [
    "### Definition of the FCT class"
   ]
  },
  {
   "cell_type": "code",
   "execution_count": null,
   "id": "f6eb5cdc",
   "metadata": {},
   "outputs": [],
   "source": [
    "class FCT(PBH.Massfunction):\n",
    "    \n",
    "    def __init__(self, cosmo, **kwargs):\n",
    "        \n",
    "        kwargs = check_parameters(**kwargs)\n",
    "        \n",
    "        #\n",
    "        #\n",
    "        #"
   ]
  },
  {
   "cell_type": "markdown",
   "id": "a7a20e9b",
   "metadata": {},
   "source": [
    "Now you can instantiate an FCT mass function and plot it with its plot( ) method. Additionally you have available all the PBH.Massfunction methods available for you. To list some of them, these are:\n",
    "\n",
    "- plot() : Plots the mass function\n",
    "- compute_f() : Computes $f_\\mathrm{PBH}$ for the mass function.\n",
    "- mass_density(lo, hi): Returns the mass density between lo $ = \\log_{10}(M_\\min)$ and hi $ = \\log_{10}(M_\\max)$\n",
    "- number_density(lo, hi): Returns the number density between lo $ = \\log_{10}(M_\\min)$ and hi $ = \\log_{10}(M_\\max)$"
   ]
  },
  {
   "cell_type": "markdown",
   "id": "a4d128e9",
   "metadata": {},
   "source": [
    "- Use your FCT class to compute $f_{\\mathrm{PBH}}(M_*)$ for $-15 \\leq \\log_{10}(M_*/M_\\odot) \\leq 10$ for a fixed $n_b = 3.5$ value."
   ]
  },
  {
   "cell_type": "code",
   "execution_count": null,
   "id": "6ca5fb69",
   "metadata": {},
   "outputs": [],
   "source": []
  },
  {
   "cell_type": "code",
   "execution_count": null,
   "id": "dbb2218a",
   "metadata": {},
   "outputs": [],
   "source": []
  },
  {
   "cell_type": "code",
   "execution_count": null,
   "id": "4906d2e7",
   "metadata": {},
   "outputs": [],
   "source": []
  },
  {
   "cell_type": "markdown",
   "id": "d50ef325",
   "metadata": {},
   "source": [
    "## Exercise 2\n",
    "\n",
    "For this exercise, you will compute different constraints on your defined mass function. For this purpose, here is a list of the constraints that are implemented in the code divided according to the mass regime they apply. Use the compute_f( ) method of your Massfunction class to calculate the constraints on each regime and plot your resuls as a function of $M_*$. \n",
    "\n",
    "- The results make sense considering that $M_*$ is close to the maximum mass of the distribution?\n",
    "- What happens if we change $n_b$? "
   ]
  },
  {
   "cell_type": "code",
   "execution_count": 2,
   "id": "e7a18fea",
   "metadata": {},
   "outputs": [],
   "source": [
    "Constraints = {\"BBN\" : 'Low',\n",
    "              \"EGB\" : 'Low',\n",
    "              \"INTEGRAL\" : \"Low\",\n",
    "              \"GRB\" : \"Low\",\n",
    "              \"White Dwarfs\" : \"Low\",\n",
    "              \n",
    "              \"Neutron Star\" : \"Med\",\n",
    "              \"SUBARU\" : \"Med\",\n",
    "              \"MACHOS\" : \"Med\",\n",
    "              \"EROS\" : \"Med\",\n",
    "              \"OGLE\" : \"Med\",\n",
    "              \"Accretion\" : \"Med\",\n",
    "              \"GW\" : \"Med\",\n",
    "              \n",
    "              \"LSS\" : \"High\",\n",
    "              \"Radio Sources\" : \"High\",\n",
    "              \"Dynamical\" : \"High\",\n",
    "              \"Wide Binaries\" : \"High\",\n",
    "              \"X-ray Binaries\" : \"High\",\n",
    "              \"GC Disruption\" : \"High\",\n",
    "              \"Galaxy Disruption\" : \"High\",\n",
    "              \"Disk Heating\" : \"High\",\n",
    "              \"CMB-Dip\" : \"High\"\n",
    "                }"
   ]
  },
  {
   "cell_type": "code",
   "execution_count": null,
   "id": "c0f309cb",
   "metadata": {},
   "outputs": [],
   "source": []
  },
  {
   "cell_type": "code",
   "execution_count": null,
   "id": "e4fda9ba",
   "metadata": {},
   "outputs": [],
   "source": []
  },
  {
   "cell_type": "code",
   "execution_count": null,
   "id": "fb547668",
   "metadata": {},
   "outputs": [],
   "source": []
  }
 ],
 "metadata": {
  "kernelspec": {
   "display_name": "Python 3 (ipykernel)",
   "language": "python",
   "name": "python3"
  },
  "language_info": {
   "codemirror_mode": {
    "name": "ipython",
    "version": 3
   },
   "file_extension": ".py",
   "mimetype": "text/x-python",
   "name": "python",
   "nbconvert_exporter": "python",
   "pygments_lexer": "ipython3",
   "version": "3.9.12"
  }
 },
 "nbformat": 4,
 "nbformat_minor": 5
}
